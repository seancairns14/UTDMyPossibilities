{
 "cells": [
  {
   "cell_type": "code",
   "execution_count": 30,
   "metadata": {},
   "outputs": [
    {
     "name": "stderr",
     "output_type": "stream",
     "text": [
      "<>:3: SyntaxWarning: invalid escape sequence '\\L'\n",
      "<>:4: SyntaxWarning: invalid escape sequence '\\O'\n",
      "<>:5: SyntaxWarning: invalid escape sequence '\\C'\n",
      "<>:3: SyntaxWarning: invalid escape sequence '\\L'\n",
      "<>:4: SyntaxWarning: invalid escape sequence '\\O'\n",
      "<>:5: SyntaxWarning: invalid escape sequence '\\C'\n",
      "C:\\Users\\seans\\AppData\\Local\\Temp\\ipykernel_21320\\694843021.py:3: SyntaxWarning: invalid escape sequence '\\L'\n",
      "  LLL_HIPster = pd.read_excel(\"LifeLongLearning\\Lifelong Learning Caregiver Survey(1-104).xlsx\")\n",
      "C:\\Users\\seans\\AppData\\Local\\Temp\\ipykernel_21320\\694843021.py:4: SyntaxWarning: invalid escape sequence '\\O'\n",
      "  Online_HIPster = pd.read_excel(\"Online\\Online Caregiver Survey(1-12).xlsx\")\n",
      "C:\\Users\\seans\\AppData\\Local\\Temp\\ipykernel_21320\\694843021.py:5: SyntaxWarning: invalid escape sequence '\\C'\n",
      "  Clinical_HIPster = pd.read_excel(\"Clinical\\Clinical ServicesCaregiver Survey(1-43).xlsx\")\n"
     ]
    }
   ],
   "source": [
    "import pandas as pd \n",
    "\n",
    "LLL_HIPster = pd.read_excel(\"LifeLongLearning\\Lifelong Learning Caregiver Survey(1-104).xlsx\")\n",
    "Online_HIPster = pd.read_excel(\"Online\\Online Caregiver Survey(1-12).xlsx\")\n",
    "Clinical_HIPster = pd.read_excel(\"Clinical\\Clinical ServicesCaregiver Survey(1-43).xlsx\")\n",
    "\n",
    "\n",
    "LLL_HIPster = LLL_HIPster.drop(columns=[\"Last modified time\", \"Name\", \"ID\", \"Start time\", \"Completion time\"])\n",
    "Online_HIPster = Online_HIPster.drop(columns=[\"Email\", \"Name\", \"ID\", \"Start time\", \"Completion time\" ])\n"
   ]
  },
  {
   "cell_type": "code",
   "execution_count": 31,
   "metadata": {},
   "outputs": [],
   "source": [
    "LLL_HIPster[\"Type\"] = \"LifeLong Learning\"\n",
    "Online_HIPster[\"Type\"] = \"Online\"\n",
    "Clinical_HIPster[\"Type\"] = \"Clinical\""
   ]
  },
  {
   "cell_type": "code",
   "execution_count": 32,
   "metadata": {},
   "outputs": [],
   "source": [
    "# Renaming columns for LLL_HIPster for consistency\n",
    "LLL_HIPster_renamed = LLL_HIPster.rename(columns={\n",
    "    \"My HIPster's Gender:\": \"HIPster's Gender\",\n",
    "    \"My HIPster's Hours of Attendance\": \"HIPster's Hours of Attendance\",\n",
    "    \"My HIPsters Daily Schedule\": \"HIPster's Daily Schedule\",\n",
    "    \"The Number of Days a Week My HIPster attends MP\": \"Number of Days a Week HIPster Attends MP\",\n",
    "    \"The Number of Years My HIPster has attended MP\": \"Number of Years HIPster Attended MP\",\n",
    "    \"MP programs meet the needs of my HIPster.\": \"MP Meets HIPster's Needs\",\n",
    "    \"My HIPster has opportunities for community engagement, meaningful activities and events.\": \"HIPster's Opportunities for Community Engagement\",\n",
    "    \"The MP structure and routine work well for my HIPster.\": \"MP Structure and Routine Suitability\",\n",
    "    \"MP provides a safe and supportive environment for my HIPster.\": \"MP Provides Safe Environment\",\n",
    "    \"MP programs promote socialization, skill-building, and personal growth.\": \"MP Promotes Socialization and Growth\",\n",
    "    \"MP staff are knowledgeable about disabilities and have experience working with individuals with diverse needs.\": \"MP Staff Knowledge and Experience\",\n",
    "    \"MP staff is flexible and adapt to accommodate my HIPsters's needs.\": \"MP Staff Flexibility\",\n",
    "    \"MP staff addresses the individual needs of my HIPster.\": \"MP Staff Addresses Individual Needs\",\n",
    "    \"MP communicates effectively regarding schedules, events, and activities.\": \"Effective Communication from MP\",\n",
    "    \"MP programs provide a culture, philosophy, and approach that align with the values and goals my HIPster.\": \"MP Culture Alignment\",\n",
    "    # Add more renaming rules based on further details or analysis needs\n",
    "})\n",
    "\n",
    "# Renaming columns for Online_HIPster for consistency\n",
    "Online_HIPster_renamed = Online_HIPster.rename(columns={\n",
    "    \"Number of Days a Week HIPster attends MP Online Classes\": \"Number of Days a Week HIPster Attends MP\",\n",
    "    \"MP Online meet the needs of my HIPster.\": \"MP Meets HIPster's Needs\",\n",
    "    \"MP Online provides a safe and supportive environment for my HIPster.\": \"MP Provides Safe Environment\",\n",
    "    \"MP Online promote socialization, skill-building, and personal growth.\": \"MP Promotes Socialization and Growth\",\n",
    "    \"MP Online Instructor is knowledgeable about disabilities and has experience working with individuals with diverse needs.\": \"MP Staff Knowledge and Experience\",\n",
    "    \"The MP Online structure and routine work well for my HIPster.\": \"MP Structure and Routine Suitability\",\n",
    "    \"The MP Online staff addresses the individual needs of my HIPster.\": \"MP Staff Addresses Individual Needs\",\n",
    "    \"The MP Online program is flexible and accommodates my HIPsters's needs.\": \"MP Staff Flexibility\",\n",
    "    \"The MP Online program provides a culture, philosophy, and approach that align with the values and goals my HIPster.\": \"MP Culture Alignment\",\n",
    "    # Add more renaming rules based on further details or analysis needs\n",
    "})\n",
    "\n",
    "# Renaming columns for Clinical for consistency\n",
    "Clinical_renamed = Clinical_HIPster.rename(columns={\n",
    "    \"My HIPster's Gender:\": \"HIPster's Gender\",\n",
    "    \"Type of Therapy Received (may select more than one):\": \"Type of Therapy Received\",\n",
    "    \"I am satisfied with the therapy services at MP.\": \"Satisfaction with MP Therapy Services\",\n",
    "    \"My HIPster's daily living skills have improved since starting therapy at MP.\": \"Improvement in Daily Living Skills\",\n",
    "    \"My HIPster's social skills have improved since starting therapy at MP.\": \"Improvement in Social Skills\",\n",
    "    \"My HIPster's communication skills have improved since starting therapy at MP.\": \"Improvement in Communication Skills\",\n",
    "    \"My HIPster is more independent since starting therapy services at MP.\": \"Increased Independence from Therapy\",\n",
    "    \"The therapy program is addressing the specific needs of my HIPster.\": \"Therapy Program Meets HIPster's Needs\",\n",
    "    \"Therapy staff is flexible and adapts to accommodate HIPsters' needs.\": \"Therapy Staff Flexibility\",\n",
    "    \"Therapy staff communicates effectively regarding therapy goals and schedules.\": \"Effective Communication from Therapy Staff\",\n",
    "    # The cost and additional information columns are named consistently across datasets, so no renaming needed here\n",
    "})\n"
   ]
  },
  {
   "cell_type": "code",
   "execution_count": 33,
   "metadata": {},
   "outputs": [],
   "source": [
    "combined_HIPster_data = pd.concat([Online_HIPster_renamed, LLL_HIPster_renamed, Clinical_renamed], ignore_index=True)\n"
   ]
  },
  {
   "cell_type": "code",
   "execution_count": 34,
   "metadata": {},
   "outputs": [],
   "source": [
    "combined_HIPster_data.to_excel('HIPster.xlsx', sheet_name='HIPster', index=False)"
   ]
  }
 ],
 "metadata": {
  "kernelspec": {
   "display_name": "Python 3",
   "language": "python",
   "name": "python3"
  },
  "language_info": {
   "codemirror_mode": {
    "name": "ipython",
    "version": 3
   },
   "file_extension": ".py",
   "mimetype": "text/x-python",
   "name": "python",
   "nbconvert_exporter": "python",
   "pygments_lexer": "ipython3",
   "version": "3.12.2"
  }
 },
 "nbformat": 4,
 "nbformat_minor": 2
}
